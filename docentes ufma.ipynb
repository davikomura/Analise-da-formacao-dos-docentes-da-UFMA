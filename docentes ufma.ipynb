{
 "cells": [
  {
   "cell_type": "markdown",
   "id": "4e6e12b8",
   "metadata": {},
   "source": [
    "# Análise da formação dos docentes da UFMA"
   ]
  },
  {
   "cell_type": "code",
   "execution_count": 1,
   "id": "85841c16",
   "metadata": {},
   "outputs": [],
   "source": [
    "import pandas as pd\n",
    "import matplotlib.pyplot as plt\n",
    "import seaborn as sns"
   ]
  },
  {
   "cell_type": "code",
   "execution_count": 2,
   "id": "b7c61c7f",
   "metadata": {},
   "outputs": [
    {
     "data": {
      "text/html": [
       "<div>\n",
       "<style scoped>\n",
       "    .dataframe tbody tr th:only-of-type {\n",
       "        vertical-align: middle;\n",
       "    }\n",
       "\n",
       "    .dataframe tbody tr th {\n",
       "        vertical-align: top;\n",
       "    }\n",
       "\n",
       "    .dataframe thead th {\n",
       "        text-align: right;\n",
       "    }\n",
       "</style>\n",
       "<table border=\"1\" class=\"dataframe\">\n",
       "  <thead>\n",
       "    <tr style=\"text-align: right;\">\n",
       "      <th></th>\n",
       "      <th>nome</th>\n",
       "      <th>unidade</th>\n",
       "      <th>sexo</th>\n",
       "      <th>titulacao</th>\n",
       "    </tr>\n",
       "  </thead>\n",
       "  <tbody>\n",
       "    <tr>\n",
       "      <th>0</th>\n",
       "      <td>ALANA DAS CHAGAS FERREIRA AGUIAR</td>\n",
       "      <td>DEPARTAMENTO DE BIOLOGIA/CCBS</td>\n",
       "      <td>F</td>\n",
       "      <td>DOUTORADO</td>\n",
       "    </tr>\n",
       "    <tr>\n",
       "      <th>1</th>\n",
       "      <td>FREDERICO FERNANDO SOUZA SILVA</td>\n",
       "      <td>DEPARTAMENTO DE ARTES VISUAIS/CCH</td>\n",
       "      <td>M</td>\n",
       "      <td>DOUTORADO</td>\n",
       "    </tr>\n",
       "    <tr>\n",
       "      <th>2</th>\n",
       "      <td>ANDREA MARQUES DA SILVA PIRES</td>\n",
       "      <td>DEPARTAMENTO DE PATOLOGIA/CCBS</td>\n",
       "      <td>F</td>\n",
       "      <td>DOUTORADO</td>\n",
       "    </tr>\n",
       "    <tr>\n",
       "      <th>3</th>\n",
       "      <td>SARA FITERMAN LIMA</td>\n",
       "      <td>COORDENACAO DO CURSO DE MEDICINA PINHEIRO/CCHNST</td>\n",
       "      <td>F</td>\n",
       "      <td>DOUTORADO</td>\n",
       "    </tr>\n",
       "    <tr>\n",
       "      <th>4</th>\n",
       "      <td>ABIMAELSON SANTOS PEREIRA</td>\n",
       "      <td>DEPARTAMENTO DE ARTES CENICAS/CCH</td>\n",
       "      <td>M</td>\n",
       "      <td>MESTRADO</td>\n",
       "    </tr>\n",
       "  </tbody>\n",
       "</table>\n",
       "</div>"
      ],
      "text/plain": [
       "                               nome  \\\n",
       "0  ALANA DAS CHAGAS FERREIRA AGUIAR   \n",
       "1    FREDERICO FERNANDO SOUZA SILVA   \n",
       "2     ANDREA MARQUES DA SILVA PIRES   \n",
       "3                SARA FITERMAN LIMA   \n",
       "4         ABIMAELSON SANTOS PEREIRA   \n",
       "\n",
       "                                            unidade sexo  titulacao  \n",
       "0                     DEPARTAMENTO DE BIOLOGIA/CCBS    F  DOUTORADO  \n",
       "1                 DEPARTAMENTO DE ARTES VISUAIS/CCH    M  DOUTORADO  \n",
       "2                    DEPARTAMENTO DE PATOLOGIA/CCBS    F  DOUTORADO  \n",
       "3  COORDENACAO DO CURSO DE MEDICINA PINHEIRO/CCHNST    F  DOUTORADO  \n",
       "4                 DEPARTAMENTO DE ARTES CENICAS/CCH    M   MESTRADO  "
      ]
     },
     "execution_count": 2,
     "metadata": {},
     "output_type": "execute_result"
    }
   ],
   "source": [
    "df =  pd.read_csv('docentes_-_2020.csv', sep=';').drop(columns=['Unnamed: 4'])\n",
    "df.head()"
   ]
  },
  {
   "cell_type": "code",
   "execution_count": 3,
   "id": "7b32ebe3",
   "metadata": {},
   "outputs": [
    {
     "data": {
      "text/plain": [
       "array(['DOUTORADO', 'MESTRADO', 'ESPECIALIZAÇÃO', 'GRADUAÇÃO',\n",
       "       'PÓS-DOUTORADO'], dtype=object)"
      ]
     },
     "execution_count": 3,
     "metadata": {},
     "output_type": "execute_result"
    }
   ],
   "source": [
    "df['titulacao'].unique()"
   ]
  },
  {
   "cell_type": "code",
   "execution_count": 4,
   "id": "b47042a3",
   "metadata": {},
   "outputs": [
    {
     "data": {
      "text/plain": [
       "(1863, 4)"
      ]
     },
     "execution_count": 4,
     "metadata": {},
     "output_type": "execute_result"
    }
   ],
   "source": [
    "df.shape"
   ]
  },
  {
   "cell_type": "code",
   "execution_count": 5,
   "id": "b65a56c4",
   "metadata": {},
   "outputs": [
    {
     "data": {
      "text/html": [
       "<div>\n",
       "<style scoped>\n",
       "    .dataframe tbody tr th:only-of-type {\n",
       "        vertical-align: middle;\n",
       "    }\n",
       "\n",
       "    .dataframe tbody tr th {\n",
       "        vertical-align: top;\n",
       "    }\n",
       "\n",
       "    .dataframe thead th {\n",
       "        text-align: right;\n",
       "    }\n",
       "</style>\n",
       "<table border=\"1\" class=\"dataframe\">\n",
       "  <thead>\n",
       "    <tr style=\"text-align: right;\">\n",
       "      <th></th>\n",
       "      <th>titulacao</th>\n",
       "      <th>Total</th>\n",
       "      <th>Percentual</th>\n",
       "    </tr>\n",
       "  </thead>\n",
       "  <tbody>\n",
       "    <tr>\n",
       "      <th>1</th>\n",
       "      <td>DOUTORADO</td>\n",
       "      <td>1252</td>\n",
       "      <td>67.20</td>\n",
       "    </tr>\n",
       "    <tr>\n",
       "      <th>2</th>\n",
       "      <td>MESTRADO</td>\n",
       "      <td>469</td>\n",
       "      <td>25.17</td>\n",
       "    </tr>\n",
       "    <tr>\n",
       "      <th>3</th>\n",
       "      <td>ESPECIALIZAÇÃO</td>\n",
       "      <td>126</td>\n",
       "      <td>6.76</td>\n",
       "    </tr>\n",
       "    <tr>\n",
       "      <th>4</th>\n",
       "      <td>GRADUAÇÃO</td>\n",
       "      <td>15</td>\n",
       "      <td>0.81</td>\n",
       "    </tr>\n",
       "    <tr>\n",
       "      <th>5</th>\n",
       "      <td>PÓS-DOUTORADO</td>\n",
       "      <td>1</td>\n",
       "      <td>0.05</td>\n",
       "    </tr>\n",
       "  </tbody>\n",
       "</table>\n",
       "</div>"
      ],
      "text/plain": [
       "        titulacao  Total  Percentual\n",
       "1       DOUTORADO   1252       67.20\n",
       "2        MESTRADO    469       25.17\n",
       "3  ESPECIALIZAÇÃO    126        6.76\n",
       "4       GRADUAÇÃO     15        0.81\n",
       "5   PÓS-DOUTORADO      1        0.05"
      ]
     },
     "execution_count": 5,
     "metadata": {},
     "output_type": "execute_result"
    }
   ],
   "source": [
    "df_total = df.groupby('titulacao').count()\\\n",
    "                                  .rename(columns={'nome':'Total'})\\\n",
    "                                  .drop(columns=['unidade', 'sexo'])\\\n",
    "                                  .reset_index()\\\n",
    "                                  .sort_values(by='Total', ascending=False)\n",
    "\n",
    "df_total.index = pd.RangeIndex(start=1, stop=6, step=1)\n",
    "\n",
    "df_total['Percentual'] = ((df_total['Total'] / df_total['Total'].sum()) * 100).round(2)\n",
    "\n",
    "df_total"
   ]
  },
  {
   "cell_type": "code",
   "execution_count": 6,
   "id": "2ab67b64",
   "metadata": {},
   "outputs": [
    {
     "data": {
      "image/png": "[encoded data removed]",
      "text/plain": [
       "<Figure size 800x600 with 1 Axes>"
      ]
     },
     "metadata": {},
     "output_type": "display_data"
    }
   ],
   "source": [
    "fig, ax = plt.subplots(figsize=(8, 6))\n",
    "\n",
    "ax.set_title( \"Número Total de Titulações na UFMA\" , size = 12 )\n",
    "\n",
    "plot = sns.barplot(x = 'titulacao', y = 'Total', data = df_total, ax=ax)\n",
    "\n",
    "plt.show()"
   ]
  },
  {
   "cell_type": "code",
   "execution_count": 7,
   "id": "cfd2dd8e",
   "metadata": {},
   "outputs": [
    {
     "data": {
      "text/html": [
       "<div>\n",
       "<style scoped>\n",
       "    .dataframe tbody tr th:only-of-type {\n",
       "        vertical-align: middle;\n",
       "    }\n",
       "\n",
       "    .dataframe tbody tr th {\n",
       "        vertical-align: top;\n",
       "    }\n",
       "\n",
       "    .dataframe thead th {\n",
       "        text-align: right;\n",
       "    }\n",
       "</style>\n",
       "<table border=\"1\" class=\"dataframe\">\n",
       "  <thead>\n",
       "    <tr style=\"text-align: right;\">\n",
       "      <th></th>\n",
       "      <th>sexo</th>\n",
       "      <th>Total</th>\n",
       "      <th>Percentual</th>\n",
       "    </tr>\n",
       "  </thead>\n",
       "  <tbody>\n",
       "    <tr>\n",
       "      <th>1</th>\n",
       "      <td>M</td>\n",
       "      <td>938</td>\n",
       "      <td>50.35</td>\n",
       "    </tr>\n",
       "    <tr>\n",
       "      <th>2</th>\n",
       "      <td>F</td>\n",
       "      <td>925</td>\n",
       "      <td>49.65</td>\n",
       "    </tr>\n",
       "  </tbody>\n",
       "</table>\n",
       "</div>"
      ],
      "text/plain": [
       "  sexo  Total  Percentual\n",
       "1    M    938       50.35\n",
       "2    F    925       49.65"
      ]
     },
     "execution_count": 7,
     "metadata": {},
     "output_type": "execute_result"
    }
   ],
   "source": [
    "df_sexo = df.groupby('sexo')\\\n",
    "            .count()\\\n",
    "            .rename(columns={'nome':'Total'})\\\n",
    "            .drop(columns=['unidade', 'titulacao'])\\\n",
    "            .reset_index()\\\n",
    "            .sort_values(by='Total', ascending=False)\n",
    "\n",
    "df_sexo.index = pd.RangeIndex(start=1, stop=3, step=1)\n",
    "\n",
    "df_sexo['Percentual'] = ((df_sexo['Total'] / df_sexo['Total'].sum()) * 100).round(2)\n",
    "\n",
    "df_sexo"
   ]
  },
  {
   "cell_type": "code",
   "execution_count": 8,
   "id": "729fc484",
   "metadata": {},
   "outputs": [
    {
     "data": {
      "image/png": "[encoded data removed]",
      "text/plain": [
       "<Figure size 640x480 with 1 Axes>"
      ]
     },
     "metadata": {},
     "output_type": "display_data"
    }
   ],
   "source": [
    "fig, ax = plt.subplots()\n",
    "\n",
    "ax.set_title( \"Masculino x Feminino\" , size = 12 )\n",
    "\n",
    "plot = sns.barplot(x = 'sexo', y = 'Total', data = df_sexo, ax=ax)\n",
    "\n",
    "plt.show()"
   ]
  },
  {
   "cell_type": "code",
   "execution_count": 9,
   "id": "eb8510f4",
   "metadata": {},
   "outputs": [
    {
     "data": {
      "text/html": [
       "<div>\n",
       "<style scoped>\n",
       "    .dataframe tbody tr th:only-of-type {\n",
       "        vertical-align: middle;\n",
       "    }\n",
       "\n",
       "    .dataframe tbody tr th {\n",
       "        vertical-align: top;\n",
       "    }\n",
       "\n",
       "    .dataframe thead th {\n",
       "        text-align: right;\n",
       "    }\n",
       "</style>\n",
       "<table border=\"1\" class=\"dataframe\">\n",
       "  <thead>\n",
       "    <tr style=\"text-align: right;\">\n",
       "      <th></th>\n",
       "      <th>sexo</th>\n",
       "      <th>titulacao</th>\n",
       "      <th>Total</th>\n",
       "      <th>Percentual</th>\n",
       "    </tr>\n",
       "  </thead>\n",
       "  <tbody>\n",
       "    <tr>\n",
       "      <th>1</th>\n",
       "      <td>M</td>\n",
       "      <td>DOUTORADO</td>\n",
       "      <td>633</td>\n",
       "      <td>33.98</td>\n",
       "    </tr>\n",
       "    <tr>\n",
       "      <th>2</th>\n",
       "      <td>F</td>\n",
       "      <td>DOUTORADO</td>\n",
       "      <td>619</td>\n",
       "      <td>33.23</td>\n",
       "    </tr>\n",
       "    <tr>\n",
       "      <th>3</th>\n",
       "      <td>F</td>\n",
       "      <td>MESTRADO</td>\n",
       "      <td>235</td>\n",
       "      <td>12.61</td>\n",
       "    </tr>\n",
       "    <tr>\n",
       "      <th>4</th>\n",
       "      <td>M</td>\n",
       "      <td>MESTRADO</td>\n",
       "      <td>234</td>\n",
       "      <td>12.56</td>\n",
       "    </tr>\n",
       "    <tr>\n",
       "      <th>5</th>\n",
       "      <td>M</td>\n",
       "      <td>ESPECIALIZAÇÃO</td>\n",
       "      <td>64</td>\n",
       "      <td>3.44</td>\n",
       "    </tr>\n",
       "    <tr>\n",
       "      <th>6</th>\n",
       "      <td>F</td>\n",
       "      <td>ESPECIALIZAÇÃO</td>\n",
       "      <td>62</td>\n",
       "      <td>3.33</td>\n",
       "    </tr>\n",
       "    <tr>\n",
       "      <th>7</th>\n",
       "      <td>F</td>\n",
       "      <td>GRADUAÇÃO</td>\n",
       "      <td>8</td>\n",
       "      <td>0.43</td>\n",
       "    </tr>\n",
       "    <tr>\n",
       "      <th>8</th>\n",
       "      <td>M</td>\n",
       "      <td>GRADUAÇÃO</td>\n",
       "      <td>7</td>\n",
       "      <td>0.38</td>\n",
       "    </tr>\n",
       "    <tr>\n",
       "      <th>9</th>\n",
       "      <td>F</td>\n",
       "      <td>PÓS-DOUTORADO</td>\n",
       "      <td>1</td>\n",
       "      <td>0.05</td>\n",
       "    </tr>\n",
       "  </tbody>\n",
       "</table>\n",
       "</div>"
      ],
      "text/plain": [
       "  sexo       titulacao  Total  Percentual\n",
       "1    M       DOUTORADO    633       33.98\n",
       "2    F       DOUTORADO    619       33.23\n",
       "3    F        MESTRADO    235       12.61\n",
       "4    M        MESTRADO    234       12.56\n",
       "5    M  ESPECIALIZAÇÃO     64        3.44\n",
       "6    F  ESPECIALIZAÇÃO     62        3.33\n",
       "7    F       GRADUAÇÃO      8        0.43\n",
       "8    M       GRADUAÇÃO      7        0.38\n",
       "9    F   PÓS-DOUTORADO      1        0.05"
      ]
     },
     "execution_count": 9,
     "metadata": {},
     "output_type": "execute_result"
    }
   ],
   "source": [
    "df2 = df.groupby(['sexo', 'titulacao'])\\\n",
    "        .count()\\\n",
    "        .rename(columns={'nome':'Total'})\\\n",
    "        .drop(columns=['unidade'])\\\n",
    "        .reset_index()\\\n",
    "        .sort_values(by='Total', ascending=False)\n",
    "\n",
    "df2.index = pd.RangeIndex(start=1, stop=10, step=1)\n",
    "\n",
    "df2['Percentual'] = ((df2['Total'] / df2['Total'].sum()) * 100).round(2)\n",
    "\n",
    "df2"
   ]
  },
  {
   "cell_type": "code",
   "execution_count": 10,
   "id": "c0f8aaa6",
   "metadata": {},
   "outputs": [
    {
     "data": {
      "image/png": "[encoded data removed]",
      "text/plain": [
       "<Figure size 800x600 with 1 Axes>"
      ]
     },
     "metadata": {},
     "output_type": "display_data"
    }
   ],
   "source": [
    "fig, ax = plt.subplots(figsize=(8, 6))\n",
    "\n",
    "ax.set_title( \"Titulações na UFMA por sexo\" , size = 12 )\n",
    "\n",
    "plot = sns.barplot(x = 'titulacao', y = 'Total', data = df2, hue='sexo', ax=ax)\n",
    "\n",
    "plt.show()"
   ]
  },
  {
   "cell_type": "markdown",
   "id": "bdd855a6",
   "metadata": {},
   "source": [
    "## Matemática"
   ]
  },
  {
   "cell_type": "code",
   "execution_count": 11,
   "id": "bf61bebf",
   "metadata": {},
   "outputs": [
    {
     "data": {
      "text/html": [
       "<div>\n",
       "<style scoped>\n",
       "    .dataframe tbody tr th:only-of-type {\n",
       "        vertical-align: middle;\n",
       "    }\n",
       "\n",
       "    .dataframe tbody tr th {\n",
       "        vertical-align: top;\n",
       "    }\n",
       "\n",
       "    .dataframe thead th {\n",
       "        text-align: right;\n",
       "    }\n",
       "</style>\n",
       "<table border=\"1\" class=\"dataframe\">\n",
       "  <thead>\n",
       "    <tr style=\"text-align: right;\">\n",
       "      <th></th>\n",
       "      <th>nome</th>\n",
       "      <th>sexo</th>\n",
       "      <th>titulacao</th>\n",
       "    </tr>\n",
       "    <tr>\n",
       "      <th>unidade</th>\n",
       "      <th></th>\n",
       "      <th></th>\n",
       "      <th></th>\n",
       "    </tr>\n",
       "  </thead>\n",
       "  <tbody>\n",
       "    <tr>\n",
       "      <th>DEPARTAMENTO DE MATEMATICA/CCET</th>\n",
       "      <td>GERARD JOHN ALVA MORALES</td>\n",
       "      <td>M</td>\n",
       "      <td>DOUTORADO</td>\n",
       "    </tr>\n",
       "  </tbody>\n",
       "</table>\n",
       "</div>"
      ],
      "text/plain": [
       "                                                     nome sexo  titulacao\n",
       "unidade                                                                  \n",
       "DEPARTAMENTO DE MATEMATICA/CCET  GERARD JOHN ALVA MORALES    M  DOUTORADO"
      ]
     },
     "execution_count": 11,
     "metadata": {},
     "output_type": "execute_result"
    }
   ],
   "source": [
    "df_mtm = df[df['unidade'] == 'DEPARTAMENTO DE MATEMATICA/CCET'].set_index('unidade')\n",
    "df_mtm.head(1)"
   ]
  },
  {
   "cell_type": "code",
   "execution_count": 12,
   "id": "48fd3d26",
   "metadata": {
    "scrolled": true
   },
   "outputs": [
    {
     "data": {
      "text/html": [
       "<div>\n",
       "<style scoped>\n",
       "    .dataframe tbody tr th:only-of-type {\n",
       "        vertical-align: middle;\n",
       "    }\n",
       "\n",
       "    .dataframe tbody tr th {\n",
       "        vertical-align: top;\n",
       "    }\n",
       "\n",
       "    .dataframe thead th {\n",
       "        text-align: right;\n",
       "    }\n",
       "</style>\n",
       "<table border=\"1\" class=\"dataframe\">\n",
       "  <thead>\n",
       "    <tr style=\"text-align: right;\">\n",
       "      <th></th>\n",
       "      <th>titulacao</th>\n",
       "      <th>Total</th>\n",
       "      <th>Percentual</th>\n",
       "    </tr>\n",
       "  </thead>\n",
       "  <tbody>\n",
       "    <tr>\n",
       "      <th>1</th>\n",
       "      <td>DOUTORADO</td>\n",
       "      <td>21</td>\n",
       "      <td>61.76</td>\n",
       "    </tr>\n",
       "    <tr>\n",
       "      <th>2</th>\n",
       "      <td>MESTRADO</td>\n",
       "      <td>10</td>\n",
       "      <td>29.41</td>\n",
       "    </tr>\n",
       "    <tr>\n",
       "      <th>3</th>\n",
       "      <td>ESPECIALIZAÇÃO</td>\n",
       "      <td>2</td>\n",
       "      <td>5.88</td>\n",
       "    </tr>\n",
       "    <tr>\n",
       "      <th>4</th>\n",
       "      <td>GRADUAÇÃO</td>\n",
       "      <td>1</td>\n",
       "      <td>2.94</td>\n",
       "    </tr>\n",
       "  </tbody>\n",
       "</table>\n",
       "</div>"
      ],
      "text/plain": [
       "        titulacao  Total  Percentual\n",
       "1       DOUTORADO     21       61.76\n",
       "2        MESTRADO     10       29.41\n",
       "3  ESPECIALIZAÇÃO      2        5.88\n",
       "4       GRADUAÇÃO      1        2.94"
      ]
     },
     "execution_count": 12,
     "metadata": {},
     "output_type": "execute_result"
    }
   ],
   "source": [
    "df_mtm_titulacao = df_mtm.groupby('titulacao')\\\n",
    "                         .count()\\\n",
    "                         .rename(columns={'nome':'Total'})\\\n",
    "                         .drop(columns=['sexo'])\\\n",
    "                         .reset_index()\\\n",
    "                         .sort_values(by='Total', ascending=False)\n",
    "    \n",
    "df_mtm_titulacao.index = pd.RangeIndex(start=1, stop=5, step=1)\n",
    "\n",
    "df_mtm_titulacao['Percentual'] = ((df_mtm_titulacao['Total'] / df_mtm_titulacao['Total'].sum()) * 100).round(2)\n",
    "\n",
    "df_mtm_titulacao"
   ]
  },
  {
   "cell_type": "code",
   "execution_count": 13,
   "id": "13d7ffd2",
   "metadata": {},
   "outputs": [
    {
     "data": {
      "image/png": "[encoded data removed]",
      "text/plain": [
       "<Figure size 800x600 with 1 Axes>"
      ]
     },
     "metadata": {},
     "output_type": "display_data"
    }
   ],
   "source": [
    "fig, ax = plt.subplots(figsize=(8, 6))\n",
    "\n",
    "ax.set_title( \"Número Total de Titulações Departamento de Matemática na UFMA\" , size = 12 )\n",
    "\n",
    "plot = sns.barplot(x = 'titulacao', y = 'Total', data = df_mtm_titulacao, ax=ax)\n",
    "\n",
    "plt.show()"
   ]
  },
  {
   "cell_type": "code",
   "execution_count": 14,
   "id": "23b2a80e",
   "metadata": {},
   "outputs": [
    {
     "data": {
      "text/html": [
       "<div>\n",
       "<style scoped>\n",
       "    .dataframe tbody tr th:only-of-type {\n",
       "        vertical-align: middle;\n",
       "    }\n",
       "\n",
       "    .dataframe tbody tr th {\n",
       "        vertical-align: top;\n",
       "    }\n",
       "\n",
       "    .dataframe thead th {\n",
       "        text-align: right;\n",
       "    }\n",
       "</style>\n",
       "<table border=\"1\" class=\"dataframe\">\n",
       "  <thead>\n",
       "    <tr style=\"text-align: right;\">\n",
       "      <th></th>\n",
       "      <th>sexo</th>\n",
       "      <th>Total</th>\n",
       "      <th>Percentual</th>\n",
       "    </tr>\n",
       "  </thead>\n",
       "  <tbody>\n",
       "    <tr>\n",
       "      <th>1</th>\n",
       "      <td>M</td>\n",
       "      <td>27</td>\n",
       "      <td>79.41</td>\n",
       "    </tr>\n",
       "    <tr>\n",
       "      <th>2</th>\n",
       "      <td>F</td>\n",
       "      <td>7</td>\n",
       "      <td>20.59</td>\n",
       "    </tr>\n",
       "  </tbody>\n",
       "</table>\n",
       "</div>"
      ],
      "text/plain": [
       "  sexo  Total  Percentual\n",
       "1    M     27       79.41\n",
       "2    F      7       20.59"
      ]
     },
     "execution_count": 14,
     "metadata": {},
     "output_type": "execute_result"
    }
   ],
   "source": [
    "df_mtm_sexo = df_mtm.groupby('sexo')\\\n",
    "                    .count()\\\n",
    "                    .rename(columns={'nome':'Total'})\\\n",
    "                    .drop(columns=['titulacao'])\\\n",
    "                    .reset_index()\\\n",
    "                    .sort_values(by='Total', ascending=False)\n",
    "\n",
    "df_mtm_sexo.index = pd.RangeIndex(start=1, stop=3, step=1)\n",
    "\n",
    "df_mtm_sexo['Percentual'] = ((df_mtm_sexo['Total'] / df_mtm_sexo['Total'].sum()) * 100).round(2)\n",
    "\n",
    "df_mtm_sexo"
   ]
  },
  {
   "cell_type": "code",
   "execution_count": 15,
   "id": "ed0cb1d2",
   "metadata": {},
   "outputs": [
    {
     "data": {
      "image/png": "[encoded data removed]",
      "text/plain": [
       "<Figure size 640x480 with 1 Axes>"
      ]
     },
     "metadata": {},
     "output_type": "display_data"
    }
   ],
   "source": [
    "fig, ax = plt.subplots()\n",
    "\n",
    "ax.set_title( \"Masculino x Feminino no Departamento de Matemática\" , size = 12 )\n",
    "\n",
    "plot = sns.barplot(x = 'sexo', y = 'Total', data = df_mtm_sexo, ax=ax)\n",
    "\n",
    "plt.show()"
   ]
  },
  {
   "cell_type": "code",
   "execution_count": 16,
   "id": "de2a7ad5",
   "metadata": {},
   "outputs": [
    {
     "data": {
      "text/html": [
       "<div>\n",
       "<style scoped>\n",
       "    .dataframe tbody tr th:only-of-type {\n",
       "        vertical-align: middle;\n",
       "    }\n",
       "\n",
       "    .dataframe tbody tr th {\n",
       "        vertical-align: top;\n",
       "    }\n",
       "\n",
       "    .dataframe thead th {\n",
       "        text-align: right;\n",
       "    }\n",
       "</style>\n",
       "<table border=\"1\" class=\"dataframe\">\n",
       "  <thead>\n",
       "    <tr style=\"text-align: right;\">\n",
       "      <th></th>\n",
       "      <th>sexo</th>\n",
       "      <th>titulacao</th>\n",
       "      <th>Total</th>\n",
       "      <th>Percentual</th>\n",
       "    </tr>\n",
       "  </thead>\n",
       "  <tbody>\n",
       "    <tr>\n",
       "      <th>1</th>\n",
       "      <td>M</td>\n",
       "      <td>DOUTORADO</td>\n",
       "      <td>16</td>\n",
       "      <td>47.06</td>\n",
       "    </tr>\n",
       "    <tr>\n",
       "      <th>2</th>\n",
       "      <td>M</td>\n",
       "      <td>MESTRADO</td>\n",
       "      <td>8</td>\n",
       "      <td>23.53</td>\n",
       "    </tr>\n",
       "    <tr>\n",
       "      <th>3</th>\n",
       "      <td>F</td>\n",
       "      <td>DOUTORADO</td>\n",
       "      <td>5</td>\n",
       "      <td>14.71</td>\n",
       "    </tr>\n",
       "    <tr>\n",
       "      <th>4</th>\n",
       "      <td>F</td>\n",
       "      <td>MESTRADO</td>\n",
       "      <td>2</td>\n",
       "      <td>5.88</td>\n",
       "    </tr>\n",
       "    <tr>\n",
       "      <th>5</th>\n",
       "      <td>M</td>\n",
       "      <td>ESPECIALIZAÇÃO</td>\n",
       "      <td>2</td>\n",
       "      <td>5.88</td>\n",
       "    </tr>\n",
       "    <tr>\n",
       "      <th>6</th>\n",
       "      <td>M</td>\n",
       "      <td>GRADUAÇÃO</td>\n",
       "      <td>1</td>\n",
       "      <td>2.94</td>\n",
       "    </tr>\n",
       "  </tbody>\n",
       "</table>\n",
       "</div>"
      ],
      "text/plain": [
       "  sexo       titulacao  Total  Percentual\n",
       "1    M       DOUTORADO     16       47.06\n",
       "2    M        MESTRADO      8       23.53\n",
       "3    F       DOUTORADO      5       14.71\n",
       "4    F        MESTRADO      2        5.88\n",
       "5    M  ESPECIALIZAÇÃO      2        5.88\n",
       "6    M       GRADUAÇÃO      1        2.94"
      ]
     },
     "execution_count": 16,
     "metadata": {},
     "output_type": "execute_result"
    }
   ],
   "source": [
    "df_mtm_sexo_titulacao = df_mtm.groupby(['sexo', 'titulacao'])\\\n",
    "                              .count()\\\n",
    "                              .rename(columns={'nome':'Total'})\\\n",
    "                              .reset_index()\\\n",
    "                              .sort_values(by='Total', ascending=False)\n",
    "\n",
    "df_mtm_sexo_titulacao.index = pd.RangeIndex(start=1, stop=7, step=1)\n",
    "\n",
    "df_mtm_sexo_titulacao['Percentual'] = ((df_mtm_sexo_titulacao['Total'] / df_mtm_sexo_titulacao['Total']\\\n",
    "                                        .sum()) * 100).round(2)\n",
    "\n",
    "df_mtm_sexo_titulacao"
   ]
  },
  {
   "cell_type": "code",
   "execution_count": 17,
   "id": "e05cf406",
   "metadata": {},
   "outputs": [
    {
     "data": {
      "image/png": "[encoded data removed]",
      "text/plain": [
       "<Figure size 800x600 with 1 Axes>"
      ]
     },
     "metadata": {},
     "output_type": "display_data"
    }
   ],
   "source": [
    "fig, ax = plt.subplots(figsize=(8, 6))\n",
    "\n",
    "ax.set_title( \"Titulações na UFMA por sexo no Departamento de Matemática\" , size = 12 )\n",
    "\n",
    "plot = sns.barplot(x = 'titulacao', y = 'Total', data = df_mtm_sexo_titulacao, hue='sexo', ax=ax)\n",
    "\n",
    "plt.show()"
   ]
  },
  {
   "cell_type": "markdown",
   "id": "42f1f214",
   "metadata": {},
   "source": [
    "## 4 principais unidadess da UFMA: CCET, CCSO, CCH e CCBS"
   ]
  },
  {
   "cell_type": "markdown",
   "id": "2056f624",
   "metadata": {},
   "source": [
    "#### CCET"
   ]
  },
  {
   "cell_type": "code",
   "execution_count": 18,
   "id": "9522de93",
   "metadata": {},
   "outputs": [
    {
     "data": {
      "text/html": [
       "<div>\n",
       "<style scoped>\n",
       "    .dataframe tbody tr th:only-of-type {\n",
       "        vertical-align: middle;\n",
       "    }\n",
       "\n",
       "    .dataframe tbody tr th {\n",
       "        vertical-align: top;\n",
       "    }\n",
       "\n",
       "    .dataframe thead th {\n",
       "        text-align: right;\n",
       "    }\n",
       "</style>\n",
       "<table border=\"1\" class=\"dataframe\">\n",
       "  <thead>\n",
       "    <tr style=\"text-align: right;\">\n",
       "      <th></th>\n",
       "      <th>unidade</th>\n",
       "      <th>nome</th>\n",
       "      <th>sexo</th>\n",
       "      <th>titulacao</th>\n",
       "    </tr>\n",
       "  </thead>\n",
       "  <tbody>\n",
       "    <tr>\n",
       "      <th>0</th>\n",
       "      <td>DEPARTAMENTO DE FISICA/CCET</td>\n",
       "      <td>MARCO SCHRECK</td>\n",
       "      <td>M</td>\n",
       "      <td>DOUTORADO</td>\n",
       "    </tr>\n",
       "    <tr>\n",
       "      <th>1</th>\n",
       "      <td>COORDENACAO DO CURSO DE ENGENHARIA CIVIL/CCET</td>\n",
       "      <td>FELIPE ALEXANDER VARGAS BAZAN</td>\n",
       "      <td>M</td>\n",
       "      <td>DOUTORADO</td>\n",
       "    </tr>\n",
       "    <tr>\n",
       "      <th>2</th>\n",
       "      <td>DEPARTAMENTO DE QUIMICA/CCET</td>\n",
       "      <td>MARCO AURELIO SULLER GARCIA</td>\n",
       "      <td>M</td>\n",
       "      <td>DOUTORADO</td>\n",
       "    </tr>\n",
       "    <tr>\n",
       "      <th>3</th>\n",
       "      <td>DEPARTAMENTO DE TECNOLOGIA QUIMICA/CCET</td>\n",
       "      <td>LEONARDO TADEU BOAES MENDONCA</td>\n",
       "      <td>M</td>\n",
       "      <td>DOUTORADO</td>\n",
       "    </tr>\n",
       "    <tr>\n",
       "      <th>4</th>\n",
       "      <td>DEPARTAMENTO DE MATEMATICA/CCET</td>\n",
       "      <td>GERARD JOHN ALVA MORALES</td>\n",
       "      <td>M</td>\n",
       "      <td>DOUTORADO</td>\n",
       "    </tr>\n",
       "  </tbody>\n",
       "</table>\n",
       "</div>"
      ],
      "text/plain": [
       "                                         unidade  \\\n",
       "0                    DEPARTAMENTO DE FISICA/CCET   \n",
       "1  COORDENACAO DO CURSO DE ENGENHARIA CIVIL/CCET   \n",
       "2                   DEPARTAMENTO DE QUIMICA/CCET   \n",
       "3        DEPARTAMENTO DE TECNOLOGIA QUIMICA/CCET   \n",
       "4                DEPARTAMENTO DE MATEMATICA/CCET   \n",
       "\n",
       "                            nome sexo  titulacao  \n",
       "0                  MARCO SCHRECK    M  DOUTORADO  \n",
       "1  FELIPE ALEXANDER VARGAS BAZAN    M  DOUTORADO  \n",
       "2    MARCO AURELIO SULLER GARCIA    M  DOUTORADO  \n",
       "3  LEONARDO TADEU BOAES MENDONCA    M  DOUTORADO  \n",
       "4       GERARD JOHN ALVA MORALES    M  DOUTORADO  "
      ]
     },
     "execution_count": 18,
     "metadata": {},
     "output_type": "execute_result"
    }
   ],
   "source": [
    "df_edit = df.set_index('unidade')\n",
    "\n",
    "df_ccet = df_edit.filter(like='/CCET', axis=0).reset_index()\n",
    "\n",
    "df_ccet.head()"
   ]
  },
  {
   "cell_type": "code",
   "execution_count": 19,
   "id": "9ac2055d",
   "metadata": {},
   "outputs": [
    {
     "data": {
      "text/plain": [
       "(267, 4)"
      ]
     },
     "execution_count": 19,
     "metadata": {},
     "output_type": "execute_result"
    }
   ],
   "source": [
    "df_ccet.shape"
   ]
  },
  {
   "cell_type": "code",
   "execution_count": 20,
   "id": "5e46f309",
   "metadata": {},
   "outputs": [
    {
     "data": {
      "text/html": [
       "<div>\n",
       "<style scoped>\n",
       "    .dataframe tbody tr th:only-of-type {\n",
       "        vertical-align: middle;\n",
       "    }\n",
       "\n",
       "    .dataframe tbody tr th {\n",
       "        vertical-align: top;\n",
       "    }\n",
       "\n",
       "    .dataframe thead th {\n",
       "        text-align: right;\n",
       "    }\n",
       "</style>\n",
       "<table border=\"1\" class=\"dataframe\">\n",
       "  <thead>\n",
       "    <tr style=\"text-align: right;\">\n",
       "      <th></th>\n",
       "      <th>titulacao</th>\n",
       "      <th>Total</th>\n",
       "      <th>Percentual</th>\n",
       "    </tr>\n",
       "  </thead>\n",
       "  <tbody>\n",
       "    <tr>\n",
       "      <th>1</th>\n",
       "      <td>DOUTORADO</td>\n",
       "      <td>204</td>\n",
       "      <td>76.40</td>\n",
       "    </tr>\n",
       "    <tr>\n",
       "      <th>2</th>\n",
       "      <td>MESTRADO</td>\n",
       "      <td>55</td>\n",
       "      <td>20.60</td>\n",
       "    </tr>\n",
       "    <tr>\n",
       "      <th>3</th>\n",
       "      <td>ESPECIALIZAÇÃO</td>\n",
       "      <td>7</td>\n",
       "      <td>2.62</td>\n",
       "    </tr>\n",
       "    <tr>\n",
       "      <th>4</th>\n",
       "      <td>GRADUAÇÃO</td>\n",
       "      <td>1</td>\n",
       "      <td>0.37</td>\n",
       "    </tr>\n",
       "  </tbody>\n",
       "</table>\n",
       "</div>"
      ],
      "text/plain": [
       "        titulacao  Total  Percentual\n",
       "1       DOUTORADO    204       76.40\n",
       "2        MESTRADO     55       20.60\n",
       "3  ESPECIALIZAÇÃO      7        2.62\n",
       "4       GRADUAÇÃO      1        0.37"
      ]
     },
     "execution_count": 20,
     "metadata": {},
     "output_type": "execute_result"
    }
   ],
   "source": [
    "df_ccet_titulacao = df_ccet.groupby('titulacao').count()\\\n",
    "                                                .rename(columns={'nome':'Total'})\\\n",
    "                                                .drop(columns=['unidade', 'sexo'])\\\n",
    "                                                .reset_index()\\\n",
    "                                                .sort_values(by='Total', ascending=False)\n",
    "\n",
    "df_ccet_titulacao.index = pd.RangeIndex(start=1, stop=5, step=1)\n",
    "\n",
    "df_ccet_titulacao['Percentual'] = ((df_ccet_titulacao['Total'] / df_ccet_titulacao['Total'].sum()) * 100).round(2)\n",
    "\n",
    "df_ccet_titulacao"
   ]
  },
  {
   "cell_type": "code",
   "execution_count": 21,
   "id": "5e9a2934",
   "metadata": {},
   "outputs": [
    {
     "data": {
      "image/png": "[encoded data removed]",
      "text/plain": [
       "<Figure size 800x600 with 1 Axes>"
      ]
     },
     "metadata": {},
     "output_type": "display_data"
    }
   ],
   "source": [
    "fig, ax = plt.subplots(figsize=(8, 6))\n",
    "\n",
    "ax.set_title( \"Número Total de Titulações no CCET\" , size = 12 )\n",
    "\n",
    "plot = sns.barplot(x = 'titulacao', y = 'Total', data = df_ccet_titulacao, ax=ax)\n",
    "\n",
    "plt.show()"
   ]
  },
  {
   "cell_type": "code",
   "execution_count": 22,
   "id": "0e7fbd8e",
   "metadata": {},
   "outputs": [
    {
     "data": {
      "text/html": [
       "<div>\n",
       "<style scoped>\n",
       "    .dataframe tbody tr th:only-of-type {\n",
       "        vertical-align: middle;\n",
       "    }\n",
       "\n",
       "    .dataframe tbody tr th {\n",
       "        vertical-align: top;\n",
       "    }\n",
       "\n",
       "    .dataframe thead th {\n",
       "        text-align: right;\n",
       "    }\n",
       "</style>\n",
       "<table border=\"1\" class=\"dataframe\">\n",
       "  <thead>\n",
       "    <tr style=\"text-align: right;\">\n",
       "      <th></th>\n",
       "      <th>sexo</th>\n",
       "      <th>Total</th>\n",
       "      <th>Percentual</th>\n",
       "    </tr>\n",
       "  </thead>\n",
       "  <tbody>\n",
       "    <tr>\n",
       "      <th>1</th>\n",
       "      <td>M</td>\n",
       "      <td>196</td>\n",
       "      <td>73.41</td>\n",
       "    </tr>\n",
       "    <tr>\n",
       "      <th>2</th>\n",
       "      <td>F</td>\n",
       "      <td>71</td>\n",
       "      <td>26.59</td>\n",
       "    </tr>\n",
       "  </tbody>\n",
       "</table>\n",
       "</div>"
      ],
      "text/plain": [
       "  sexo  Total  Percentual\n",
       "1    M    196       73.41\n",
       "2    F     71       26.59"
      ]
     },
     "execution_count": 22,
     "metadata": {},
     "output_type": "execute_result"
    }
   ],
   "source": [
    "df_ccet_sexo = df_ccet.groupby('sexo')\\\n",
    "                      .count()\\\n",
    "                      .rename(columns={'nome':'Total'})\\\n",
    "                      .drop(columns=['titulacao', 'unidade'])\\\n",
    "                      .reset_index()\\\n",
    "                      .sort_values(by='Total', ascending=False)\n",
    "\n",
    "df_ccet_sexo.index = pd.RangeIndex(start=1, stop=3, step=1)\n",
    "\n",
    "df_ccet_sexo['Percentual'] = ((df_ccet_sexo['Total'] / df_ccet_sexo['Total'].sum()) * 100).round(2)\n",
    "\n",
    "df_ccet_sexo"
   ]
  },
  {
   "cell_type": "code",
   "execution_count": 23,
   "id": "c0ae95e5",
   "metadata": {},
   "outputs": [
    {
     "data": {
      "image/png": "[encoded data removed]",
      "text/plain": [
       "<Figure size 640x480 with 1 Axes>"
      ]
     },
     "metadata": {},
     "output_type": "display_data"
    }
   ],
   "source": [
    "fig, ax = plt.subplots()\n",
    "\n",
    "ax.set_title( \"Masculino x Feminino no CCET\" , size = 12 )\n",
    "\n",
    "plot = sns.barplot(x = 'sexo', y = 'Total', data = df_ccet_sexo, ax=ax)\n",
    "\n",
    "plt.show()"
   ]
  },
  {
   "cell_type": "code",
   "execution_count": 24,
   "id": "764410b4",
   "metadata": {},
   "outputs": [
    {
     "data": {
      "text/html": [
       "<div>\n",
       "<style scoped>\n",
       "    .dataframe tbody tr th:only-of-type {\n",
       "        vertical-align: middle;\n",
       "    }\n",
       "\n",
       "    .dataframe tbody tr th {\n",
       "        vertical-align: top;\n",
       "    }\n",
       "\n",
       "    .dataframe thead th {\n",
       "        text-align: right;\n",
       "    }\n",
       "</style>\n",
       "<table border=\"1\" class=\"dataframe\">\n",
       "  <thead>\n",
       "    <tr style=\"text-align: right;\">\n",
       "      <th></th>\n",
       "      <th>sexo</th>\n",
       "      <th>titulacao</th>\n",
       "      <th>Total</th>\n",
       "      <th>Percentual</th>\n",
       "    </tr>\n",
       "  </thead>\n",
       "  <tbody>\n",
       "    <tr>\n",
       "      <th>1</th>\n",
       "      <td>M</td>\n",
       "      <td>DOUTORADO</td>\n",
       "      <td>150</td>\n",
       "      <td>56.18</td>\n",
       "    </tr>\n",
       "    <tr>\n",
       "      <th>2</th>\n",
       "      <td>F</td>\n",
       "      <td>DOUTORADO</td>\n",
       "      <td>54</td>\n",
       "      <td>20.22</td>\n",
       "    </tr>\n",
       "    <tr>\n",
       "      <th>3</th>\n",
       "      <td>M</td>\n",
       "      <td>MESTRADO</td>\n",
       "      <td>40</td>\n",
       "      <td>14.98</td>\n",
       "    </tr>\n",
       "    <tr>\n",
       "      <th>4</th>\n",
       "      <td>F</td>\n",
       "      <td>MESTRADO</td>\n",
       "      <td>15</td>\n",
       "      <td>5.62</td>\n",
       "    </tr>\n",
       "    <tr>\n",
       "      <th>5</th>\n",
       "      <td>M</td>\n",
       "      <td>ESPECIALIZAÇÃO</td>\n",
       "      <td>5</td>\n",
       "      <td>1.87</td>\n",
       "    </tr>\n",
       "    <tr>\n",
       "      <th>6</th>\n",
       "      <td>F</td>\n",
       "      <td>ESPECIALIZAÇÃO</td>\n",
       "      <td>2</td>\n",
       "      <td>0.75</td>\n",
       "    </tr>\n",
       "    <tr>\n",
       "      <th>7</th>\n",
       "      <td>M</td>\n",
       "      <td>GRADUAÇÃO</td>\n",
       "      <td>1</td>\n",
       "      <td>0.37</td>\n",
       "    </tr>\n",
       "  </tbody>\n",
       "</table>\n",
       "</div>"
      ],
      "text/plain": [
       "  sexo       titulacao  Total  Percentual\n",
       "1    M       DOUTORADO    150       56.18\n",
       "2    F       DOUTORADO     54       20.22\n",
       "3    M        MESTRADO     40       14.98\n",
       "4    F        MESTRADO     15        5.62\n",
       "5    M  ESPECIALIZAÇÃO      5        1.87\n",
       "6    F  ESPECIALIZAÇÃO      2        0.75\n",
       "7    M       GRADUAÇÃO      1        0.37"
      ]
     },
     "execution_count": 24,
     "metadata": {},
     "output_type": "execute_result"
    }
   ],
   "source": [
    "df_ccet_sexo_titulacao = df_ccet.groupby(['sexo', 'titulacao'])\\\n",
    "                                .count()\\\n",
    "                                .drop(columns=['unidade'])\\\n",
    "                                .rename(columns={'nome':'Total'})\\\n",
    "                                .reset_index()\\\n",
    "                                .sort_values(by='Total', ascending=False)\n",
    "\n",
    "df_ccet_sexo_titulacao.index = pd.RangeIndex(start=1, stop=8, step=1)\n",
    "\n",
    "df_ccet_sexo_titulacao['Percentual'] = ((df_ccet_sexo_titulacao['Total'] / df_ccet_sexo_titulacao['Total']\\\n",
    "                                         .sum()) * 100).round(2)\n",
    "\n",
    "df_ccet_sexo_titulacao"
   ]
  },
  {
   "cell_type": "code",
   "execution_count": 25,
   "id": "f65bda5f",
   "metadata": {},
   "outputs": [
    {
     "data": {
      "image/png": "[encoded data removed]",
      "text/plain": [
       "<Figure size 800x600 with 1 Axes>"
      ]
     },
     "metadata": {},
     "output_type": "display_data"
    }
   ],
   "source": [
    "fig, ax = plt.subplots(figsize=(8, 6))\n",
    "\n",
    "ax.set_title( \"Titulações na UFMA por sexo no CCET\" , size = 12 )\n",
    "\n",
    "plot = sns.barplot(x = 'titulacao', y = 'Total', data = df_ccet_sexo_titulacao, hue='sexo', ax=ax)\n",
    "\n",
    "plt.show()"
   ]
  },
  {
   "cell_type": "markdown",
   "id": "698174e6",
   "metadata": {},
   "source": [
    "#### CCSO"
   ]
  },
  {
   "cell_type": "code",
   "execution_count": 26,
   "id": "b32e36bc",
   "metadata": {},
   "outputs": [
    {
     "data": {
      "text/html": [
       "<div>\n",
       "<style scoped>\n",
       "    .dataframe tbody tr th:only-of-type {\n",
       "        vertical-align: middle;\n",
       "    }\n",
       "\n",
       "    .dataframe tbody tr th {\n",
       "        vertical-align: top;\n",
       "    }\n",
       "\n",
       "    .dataframe thead th {\n",
       "        text-align: right;\n",
       "    }\n",
       "</style>\n",
       "<table border=\"1\" class=\"dataframe\">\n",
       "  <thead>\n",
       "    <tr style=\"text-align: right;\">\n",
       "      <th></th>\n",
       "      <th>unidade</th>\n",
       "      <th>nome</th>\n",
       "      <th>sexo</th>\n",
       "      <th>titulacao</th>\n",
       "    </tr>\n",
       "  </thead>\n",
       "  <tbody>\n",
       "    <tr>\n",
       "      <th>0</th>\n",
       "      <td>DEPARTAMENTO DE BIBLIOTECONOMIA/CCSO</td>\n",
       "      <td>MARCIO FERREIRA DA SILVA</td>\n",
       "      <td>M</td>\n",
       "      <td>DOUTORADO</td>\n",
       "    </tr>\n",
       "  </tbody>\n",
       "</table>\n",
       "</div>"
      ],
      "text/plain": [
       "                                unidade                      nome sexo  \\\n",
       "0  DEPARTAMENTO DE BIBLIOTECONOMIA/CCSO  MARCIO FERREIRA DA SILVA    M   \n",
       "\n",
       "   titulacao  \n",
       "0  DOUTORADO  "
      ]
     },
     "execution_count": 26,
     "metadata": {},
     "output_type": "execute_result"
    }
   ],
   "source": [
    "df_ccso = df_edit.filter(like='/CCSO', axis=0).reset_index()\n",
    "\n",
    "df_ccso.head(1)"
   ]
  },
  {
   "cell_type": "code",
   "execution_count": 27,
   "id": "664d6576",
   "metadata": {},
   "outputs": [
    {
     "data": {
      "text/plain": [
       "(289, 4)"
      ]
     },
     "execution_count": 27,
     "metadata": {},
     "output_type": "execute_result"
    }
   ],
   "source": [
    "df_ccso.shape"
   ]
  },
  {
   "cell_type": "code",
   "execution_count": 28,
   "id": "f864de31",
   "metadata": {},
   "outputs": [
    {
     "data": {
      "text/html": [
       "<div>\n",
       "<style scoped>\n",
       "    .dataframe tbody tr th:only-of-type {\n",
       "        vertical-align: middle;\n",
       "    }\n",
       "\n",
       "    .dataframe tbody tr th {\n",
       "        vertical-align: top;\n",
       "    }\n",
       "\n",
       "    .dataframe thead th {\n",
       "        text-align: right;\n",
       "    }\n",
       "</style>\n",
       "<table border=\"1\" class=\"dataframe\">\n",
       "  <thead>\n",
       "    <tr style=\"text-align: right;\">\n",
       "      <th></th>\n",
       "      <th>titulacao</th>\n",
       "      <th>Total</th>\n",
       "      <th>Percentual</th>\n",
       "    </tr>\n",
       "  </thead>\n",
       "  <tbody>\n",
       "    <tr>\n",
       "      <th>1</th>\n",
       "      <td>DOUTORADO</td>\n",
       "      <td>194</td>\n",
       "      <td>67.13</td>\n",
       "    </tr>\n",
       "    <tr>\n",
       "      <th>2</th>\n",
       "      <td>MESTRADO</td>\n",
       "      <td>79</td>\n",
       "      <td>27.34</td>\n",
       "    </tr>\n",
       "    <tr>\n",
       "      <th>3</th>\n",
       "      <td>ESPECIALIZAÇÃO</td>\n",
       "      <td>11</td>\n",
       "      <td>3.81</td>\n",
       "    </tr>\n",
       "    <tr>\n",
       "      <th>4</th>\n",
       "      <td>GRADUAÇÃO</td>\n",
       "      <td>5</td>\n",
       "      <td>1.73</td>\n",
       "    </tr>\n",
       "  </tbody>\n",
       "</table>\n",
       "</div>"
      ],
      "text/plain": [
       "        titulacao  Total  Percentual\n",
       "1       DOUTORADO    194       67.13\n",
       "2        MESTRADO     79       27.34\n",
       "3  ESPECIALIZAÇÃO     11        3.81\n",
       "4       GRADUAÇÃO      5        1.73"
      ]
     },
     "execution_count": 28,
     "metadata": {},
     "output_type": "execute_result"
    }
   ],
   "source": [
    "df_ccso_titulacao = df_ccso.groupby('titulacao').count()\\\n",
    "                                                .rename(columns={'nome':'Total'})\\\n",
    "                                                .drop(columns=['unidade', 'sexo'])\\\n",
    "                                                .reset_index()\\\n",
    "                                                .sort_values(by='Total', ascending=False)\n",
    "\n",
    "df_ccso_titulacao.index = pd.RangeIndex(start=1, stop=5, step=1)\n",
    "\n",
    "df_ccso_titulacao['Percentual'] = ((df_ccso_titulacao['Total'] / df_ccso_titulacao['Total'].sum()) * 100).round(2)\n",
    "\n",
    "df_ccso_titulacao"
   ]
  },
  {
   "cell_type": "code",
   "execution_count": 29,
   "id": "e850b180",
   "metadata": {},
   "outputs": [
    {
     "data": {
      "image/png": "[encoded data removed]",
      "text/plain": [
       "<Figure size 800x600 with 1 Axes>"
      ]
     },
     "metadata": {},
     "output_type": "display_data"
    }
   ],
   "source": [
    "fig, ax = plt.subplots(figsize=(8, 6))\n",
    "\n",
    "ax.set_title( \"Número Total de Titulações no CCSO\" , size = 12 )\n",
    "\n",
    "plot = sns.barplot(x = 'titulacao', y = 'Total', data = df_ccso_titulacao, ax=ax)\n",
    "\n",
    "plt.show()"
   ]
  },
  {
   "cell_type": "code",
   "execution_count": 30,
   "id": "4c906db4",
   "metadata": {},
   "outputs": [
    {
     "data": {
      "text/html": [
       "<div>\n",
       "<style scoped>\n",
       "    .dataframe tbody tr th:only-of-type {\n",
       "        vertical-align: middle;\n",
       "    }\n",
       "\n",
       "    .dataframe tbody tr th {\n",
       "        vertical-align: top;\n",
       "    }\n",
       "\n",
       "    .dataframe thead th {\n",
       "        text-align: right;\n",
       "    }\n",
       "</style>\n",
       "<table border=\"1\" class=\"dataframe\">\n",
       "  <thead>\n",
       "    <tr style=\"text-align: right;\">\n",
       "      <th></th>\n",
       "      <th>sexo</th>\n",
       "      <th>Total</th>\n",
       "      <th>Percentual</th>\n",
       "    </tr>\n",
       "  </thead>\n",
       "  <tbody>\n",
       "    <tr>\n",
       "      <th>1</th>\n",
       "      <td>F</td>\n",
       "      <td>181</td>\n",
       "      <td>62.63</td>\n",
       "    </tr>\n",
       "    <tr>\n",
       "      <th>2</th>\n",
       "      <td>M</td>\n",
       "      <td>108</td>\n",
       "      <td>37.37</td>\n",
       "    </tr>\n",
       "  </tbody>\n",
       "</table>\n",
       "</div>"
      ],
      "text/plain": [
       "  sexo  Total  Percentual\n",
       "1    F    181       62.63\n",
       "2    M    108       37.37"
      ]
     },
     "execution_count": 30,
     "metadata": {},
     "output_type": "execute_result"
    }
   ],
   "source": [
    "df_ccso_sexo = df_ccso.groupby('sexo')\\\n",
    "                      .count()\\\n",
    "                      .rename(columns={'nome':'Total'})\\\n",
    "                      .drop(columns=['titulacao', 'unidade'])\\\n",
    "                      .reset_index()\\\n",
    "                      .sort_values(by='Total', ascending=False)\n",
    "\n",
    "df_ccso_sexo.index = pd.RangeIndex(start=1, stop=3, step=1)\n",
    "\n",
    "df_ccso_sexo['Percentual'] = ((df_ccso_sexo['Total'] / df_ccso_sexo['Total'].sum()) * 100).round(2)\n",
    "\n",
    "df_ccso_sexo"
   ]
  },
  {
   "cell_type": "code",
   "execution_count": 31,
   "id": "9b30ef50",
   "metadata": {},
   "outputs": [
    {
     "data": {
      "image/png": "[encoded data removed]",
      "text/plain": [
       "<Figure size 640x480 with 1 Axes>"
      ]
     },
     "metadata": {},
     "output_type": "display_data"
    }
   ],
   "source": [
    "fig, ax = plt.subplots()\n",
    "\n",
    "ax.set_title( \"Masculino x Feminino no CCSO\" , size = 12 )\n",
    "\n",
    "plot = sns.barplot(x = 'sexo', y = 'Total', data = df_ccso_sexo, ax=ax)\n",
    "\n",
    "plt.show()"
   ]
  },
  {
   "cell_type": "code",
   "execution_count": 32,
   "id": "c7512d39",
   "metadata": {},
   "outputs": [
    {
     "data": {
      "text/html": [
       "<div>\n",
       "<style scoped>\n",
       "    .dataframe tbody tr th:only-of-type {\n",
       "        vertical-align: middle;\n",
       "    }\n",
       "\n",
       "    .dataframe tbody tr th {\n",
       "        vertical-align: top;\n",
       "    }\n",
       "\n",
       "    .dataframe thead th {\n",
       "        text-align: right;\n",
       "    }\n",
       "</style>\n",
       "<table border=\"1\" class=\"dataframe\">\n",
       "  <thead>\n",
       "    <tr style=\"text-align: right;\">\n",
       "      <th></th>\n",
       "      <th>sexo</th>\n",
       "      <th>titulacao</th>\n",
       "      <th>Total</th>\n",
       "      <th>Percentual</th>\n",
       "    </tr>\n",
       "  </thead>\n",
       "  <tbody>\n",
       "    <tr>\n",
       "      <th>1</th>\n",
       "      <td>F</td>\n",
       "      <td>DOUTORADO</td>\n",
       "      <td>124</td>\n",
       "      <td>42.91</td>\n",
       "    </tr>\n",
       "    <tr>\n",
       "      <th>2</th>\n",
       "      <td>M</td>\n",
       "      <td>DOUTORADO</td>\n",
       "      <td>70</td>\n",
       "      <td>24.22</td>\n",
       "    </tr>\n",
       "    <tr>\n",
       "      <th>3</th>\n",
       "      <td>F</td>\n",
       "      <td>MESTRADO</td>\n",
       "      <td>48</td>\n",
       "      <td>16.61</td>\n",
       "    </tr>\n",
       "    <tr>\n",
       "      <th>4</th>\n",
       "      <td>M</td>\n",
       "      <td>MESTRADO</td>\n",
       "      <td>31</td>\n",
       "      <td>10.73</td>\n",
       "    </tr>\n",
       "    <tr>\n",
       "      <th>5</th>\n",
       "      <td>F</td>\n",
       "      <td>ESPECIALIZAÇÃO</td>\n",
       "      <td>6</td>\n",
       "      <td>2.08</td>\n",
       "    </tr>\n",
       "    <tr>\n",
       "      <th>6</th>\n",
       "      <td>M</td>\n",
       "      <td>ESPECIALIZAÇÃO</td>\n",
       "      <td>5</td>\n",
       "      <td>1.73</td>\n",
       "    </tr>\n",
       "    <tr>\n",
       "      <th>7</th>\n",
       "      <td>F</td>\n",
       "      <td>GRADUAÇÃO</td>\n",
       "      <td>3</td>\n",
       "      <td>1.04</td>\n",
       "    </tr>\n",
       "    <tr>\n",
       "      <th>8</th>\n",
       "      <td>M</td>\n",
       "      <td>GRADUAÇÃO</td>\n",
       "      <td>2</td>\n",
       "      <td>0.69</td>\n",
       "    </tr>\n",
       "  </tbody>\n",
       "</table>\n",
       "</div>"
      ],
      "text/plain": [
       "  sexo       titulacao  Total  Percentual\n",
       "1    F       DOUTORADO    124       42.91\n",
       "2    M       DOUTORADO     70       24.22\n",
       "3    F        MESTRADO     48       16.61\n",
       "4    M        MESTRADO     31       10.73\n",
       "5    F  ESPECIALIZAÇÃO      6        2.08\n",
       "6    M  ESPECIALIZAÇÃO      5        1.73\n",
       "7    F       GRADUAÇÃO      3        1.04\n",
       "8    M       GRADUAÇÃO      2        0.69"
      ]
     },
     "execution_count": 32,
     "metadata": {},
     "output_type": "execute_result"
    }
   ],
   "source": [
    "df_ccso_sexo_titulacao = df_ccso.groupby(['sexo', 'titulacao'])\\\n",
    "                                .count()\\\n",
    "                                .drop(columns=['unidade'])\\\n",
    "                                .rename(columns={'nome':'Total'})\\\n",
    "                                .reset_index()\\\n",
    "                                .sort_values(by='Total', ascending=False)\n",
    "\n",
    "df_ccso_sexo_titulacao.index = pd.RangeIndex(start=1, stop=9, step=1)\n",
    "\n",
    "df_ccso_sexo_titulacao['Percentual'] = ((df_ccso_sexo_titulacao['Total'] / df_ccso_sexo_titulacao['Total']\\\n",
    "                                         .sum()) * 100).round(2)\n",
    "\n",
    "df_ccso_sexo_titulacao"
   ]
  },
  {
   "cell_type": "code",
   "execution_count": 33,
   "id": "a6dd7000",
   "metadata": {},
   "outputs": [
    {
     "data": {
      "image/png": "[encoded data removed]",
      "text/plain": [
       "<Figure size 800x600 with 1 Axes>"
      ]
     },
     "metadata": {},
     "output_type": "display_data"
    }
   ],
   "source": [
    "fig, ax = plt.subplots(figsize=(8, 6))\n",
    "\n",
    "ax.set_title( \"Titulações na UFMA por sexo no CCSO\" , size = 12 )\n",
    "\n",
    "plot = sns.barplot(x = 'titulacao', y = 'Total', data = df_ccso_sexo_titulacao, hue='sexo', ax=ax)\n",
    "\n",
    "plt.show()"
   ]
  },
  {
   "cell_type": "markdown",
   "id": "7515ccbf",
   "metadata": {},
   "source": [
    "#### CCBS"
   ]
  },
  {
   "cell_type": "code",
   "execution_count": 34,
   "id": "0479c04d",
   "metadata": {},
   "outputs": [
    {
     "data": {
      "text/html": [
       "<div>\n",
       "<style scoped>\n",
       "    .dataframe tbody tr th:only-of-type {\n",
       "        vertical-align: middle;\n",
       "    }\n",
       "\n",
       "    .dataframe tbody tr th {\n",
       "        vertical-align: top;\n",
       "    }\n",
       "\n",
       "    .dataframe thead th {\n",
       "        text-align: right;\n",
       "    }\n",
       "</style>\n",
       "<table border=\"1\" class=\"dataframe\">\n",
       "  <thead>\n",
       "    <tr style=\"text-align: right;\">\n",
       "      <th></th>\n",
       "      <th>unidade</th>\n",
       "      <th>nome</th>\n",
       "      <th>sexo</th>\n",
       "      <th>titulacao</th>\n",
       "    </tr>\n",
       "  </thead>\n",
       "  <tbody>\n",
       "    <tr>\n",
       "      <th>0</th>\n",
       "      <td>DEPARTAMENTO DE BIOLOGIA/CCBS</td>\n",
       "      <td>ALANA DAS CHAGAS FERREIRA AGUIAR</td>\n",
       "      <td>F</td>\n",
       "      <td>DOUTORADO</td>\n",
       "    </tr>\n",
       "    <tr>\n",
       "      <th>1</th>\n",
       "      <td>DEPARTAMENTO DE PATOLOGIA/CCBS</td>\n",
       "      <td>ANDREA MARQUES DA SILVA PIRES</td>\n",
       "      <td>F</td>\n",
       "      <td>DOUTORADO</td>\n",
       "    </tr>\n",
       "    <tr>\n",
       "      <th>2</th>\n",
       "      <td>DEPARTAMENTO DE MEDICINA III/CCBS</td>\n",
       "      <td>ANA GABRIELA CALDAS OLIVEIRA</td>\n",
       "      <td>F</td>\n",
       "      <td>DOUTORADO</td>\n",
       "    </tr>\n",
       "    <tr>\n",
       "      <th>3</th>\n",
       "      <td>DEPARTAMENTO DE OCEANOGRAFIA E LIMNOLOGIA/CCBS</td>\n",
       "      <td>NAILA ARRAES DE ARAUJO</td>\n",
       "      <td>F</td>\n",
       "      <td>DOUTORADO</td>\n",
       "    </tr>\n",
       "    <tr>\n",
       "      <th>4</th>\n",
       "      <td>DEPARTAMENTO DE OCEANOGRAFIA E LIMNOLOGIA/CCBS</td>\n",
       "      <td>MARCELO HENRIQUE LOPES SILVA</td>\n",
       "      <td>M</td>\n",
       "      <td>DOUTORADO</td>\n",
       "    </tr>\n",
       "  </tbody>\n",
       "</table>\n",
       "</div>"
      ],
      "text/plain": [
       "                                          unidade  \\\n",
       "0                   DEPARTAMENTO DE BIOLOGIA/CCBS   \n",
       "1                  DEPARTAMENTO DE PATOLOGIA/CCBS   \n",
       "2               DEPARTAMENTO DE MEDICINA III/CCBS   \n",
       "3  DEPARTAMENTO DE OCEANOGRAFIA E LIMNOLOGIA/CCBS   \n",
       "4  DEPARTAMENTO DE OCEANOGRAFIA E LIMNOLOGIA/CCBS   \n",
       "\n",
       "                               nome sexo  titulacao  \n",
       "0  ALANA DAS CHAGAS FERREIRA AGUIAR    F  DOUTORADO  \n",
       "1     ANDREA MARQUES DA SILVA PIRES    F  DOUTORADO  \n",
       "2      ANA GABRIELA CALDAS OLIVEIRA    F  DOUTORADO  \n",
       "3            NAILA ARRAES DE ARAUJO    F  DOUTORADO  \n",
       "4      MARCELO HENRIQUE LOPES SILVA    M  DOUTORADO  "
      ]
     },
     "execution_count": 34,
     "metadata": {},
     "output_type": "execute_result"
    }
   ],
   "source": [
    "df_ccbs = df_edit.filter(like='/CCBS', axis=0).reset_index()\n",
    "\n",
    "df_ccbs.head()"
   ]
  },
  {
   "cell_type": "code",
   "execution_count": 35,
   "id": "b1b8692e",
   "metadata": {},
   "outputs": [
    {
     "data": {
      "text/plain": [
       "(381, 4)"
      ]
     },
     "execution_count": 35,
     "metadata": {},
     "output_type": "execute_result"
    }
   ],
   "source": [
    "df_ccbs.shape"
   ]
  },
  {
   "cell_type": "code",
   "execution_count": 36,
   "id": "4feed931",
   "metadata": {},
   "outputs": [
    {
     "data": {
      "text/html": [
       "<div>\n",
       "<style scoped>\n",
       "    .dataframe tbody tr th:only-of-type {\n",
       "        vertical-align: middle;\n",
       "    }\n",
       "\n",
       "    .dataframe tbody tr th {\n",
       "        vertical-align: top;\n",
       "    }\n",
       "\n",
       "    .dataframe thead th {\n",
       "        text-align: right;\n",
       "    }\n",
       "</style>\n",
       "<table border=\"1\" class=\"dataframe\">\n",
       "  <thead>\n",
       "    <tr style=\"text-align: right;\">\n",
       "      <th></th>\n",
       "      <th>titulacao</th>\n",
       "      <th>Total</th>\n",
       "      <th>Percentual</th>\n",
       "    </tr>\n",
       "  </thead>\n",
       "  <tbody>\n",
       "    <tr>\n",
       "      <th>1</th>\n",
       "      <td>DOUTORADO</td>\n",
       "      <td>307</td>\n",
       "      <td>80.58</td>\n",
       "    </tr>\n",
       "    <tr>\n",
       "      <th>2</th>\n",
       "      <td>MESTRADO</td>\n",
       "      <td>60</td>\n",
       "      <td>15.75</td>\n",
       "    </tr>\n",
       "    <tr>\n",
       "      <th>3</th>\n",
       "      <td>ESPECIALIZAÇÃO</td>\n",
       "      <td>13</td>\n",
       "      <td>3.41</td>\n",
       "    </tr>\n",
       "    <tr>\n",
       "      <th>4</th>\n",
       "      <td>GRADUAÇÃO</td>\n",
       "      <td>1</td>\n",
       "      <td>0.26</td>\n",
       "    </tr>\n",
       "  </tbody>\n",
       "</table>\n",
       "</div>"
      ],
      "text/plain": [
       "        titulacao  Total  Percentual\n",
       "1       DOUTORADO    307       80.58\n",
       "2        MESTRADO     60       15.75\n",
       "3  ESPECIALIZAÇÃO     13        3.41\n",
       "4       GRADUAÇÃO      1        0.26"
      ]
     },
     "execution_count": 36,
     "metadata": {},
     "output_type": "execute_result"
    }
   ],
   "source": [
    "df_ccbs_titulacao = df_ccbs.groupby('titulacao').count()\\\n",
    "                                                .rename(columns={'nome':'Total'})\\\n",
    "                                                .drop(columns=['unidade', 'sexo'])\\\n",
    "                                                .reset_index()\\\n",
    "                                                .sort_values(by='Total', ascending=False)\n",
    "\n",
    "df_ccbs_titulacao.index = pd.RangeIndex(start=1, stop=5, step=1)\n",
    "\n",
    "df_ccbs_titulacao['Percentual'] = ((df_ccbs_titulacao['Total'] / df_ccbs_titulacao['Total'].sum()) * 100).round(2)\n",
    "\n",
    "df_ccbs_titulacao"
   ]
  },
  {
   "cell_type": "code",
   "execution_count": 37,
   "id": "a02085ee",
   "metadata": {},
   "outputs": [
    {
     "data": {
      "image/png": "[encoded data removed]",
      "text/plain": [
       "<Figure size 800x600 with 1 Axes>"
      ]
     },
     "metadata": {},
     "output_type": "display_data"
    }
   ],
   "source": [
    "fig, ax = plt.subplots(figsize=(8, 6))\n",
    "\n",
    "ax.set_title( \"Número Total de Titulações no CCBS\" , size = 12 )\n",
    "\n",
    "plot = sns.barplot(x = 'titulacao', y = 'Total', data = df_ccbs_titulacao, ax=ax)\n",
    "\n",
    "plt.show()"
   ]
  },
  {
   "cell_type": "code",
   "execution_count": 38,
   "id": "fbcf8ca7",
   "metadata": {},
   "outputs": [
    {
     "data": {
      "text/html": [
       "<div>\n",
       "<style scoped>\n",
       "    .dataframe tbody tr th:only-of-type {\n",
       "        vertical-align: middle;\n",
       "    }\n",
       "\n",
       "    .dataframe tbody tr th {\n",
       "        vertical-align: top;\n",
       "    }\n",
       "\n",
       "    .dataframe thead th {\n",
       "        text-align: right;\n",
       "    }\n",
       "</style>\n",
       "<table border=\"1\" class=\"dataframe\">\n",
       "  <thead>\n",
       "    <tr style=\"text-align: right;\">\n",
       "      <th></th>\n",
       "      <th>sexo</th>\n",
       "      <th>Total</th>\n",
       "      <th>Percentual</th>\n",
       "    </tr>\n",
       "  </thead>\n",
       "  <tbody>\n",
       "    <tr>\n",
       "      <th>1</th>\n",
       "      <td>F</td>\n",
       "      <td>223</td>\n",
       "      <td>58.53</td>\n",
       "    </tr>\n",
       "    <tr>\n",
       "      <th>2</th>\n",
       "      <td>M</td>\n",
       "      <td>158</td>\n",
       "      <td>41.47</td>\n",
       "    </tr>\n",
       "  </tbody>\n",
       "</table>\n",
       "</div>"
      ],
      "text/plain": [
       "  sexo  Total  Percentual\n",
       "1    F    223       58.53\n",
       "2    M    158       41.47"
      ]
     },
     "execution_count": 38,
     "metadata": {},
     "output_type": "execute_result"
    }
   ],
   "source": [
    "df_ccbs_sexo = df_ccbs.groupby('sexo')\\\n",
    "                      .count()\\\n",
    "                      .rename(columns={'nome':'Total'})\\\n",
    "                      .drop(columns=['titulacao', 'unidade'])\\\n",
    "                      .reset_index()\\\n",
    "                      .sort_values(by='Total', ascending=False)\n",
    "\n",
    "df_ccbs_sexo.index = pd.RangeIndex(start=1, stop=3, step=1)\n",
    "\n",
    "df_ccbs_sexo['Percentual'] = ((df_ccbs_sexo['Total'] / df_ccbs_sexo['Total'].sum()) * 100).round(2)\n",
    "\n",
    "df_ccbs_sexo"
   ]
  },
  {
   "cell_type": "code",
   "execution_count": 39,
   "id": "b0539cb5",
   "metadata": {},
   "outputs": [
    {
     "data": {
      "image/png": "[encoded data removed]",
      "text/plain": [
       "<Figure size 640x480 with 1 Axes>"
      ]
     },
     "metadata": {},
     "output_type": "display_data"
    }
   ],
   "source": [
    "fig, ax = plt.subplots()\n",
    "\n",
    "ax.set_title( \"Masculino x Feminino no CCBS\" , size = 12 )\n",
    "\n",
    "plot = sns.barplot(x = 'sexo', y = 'Total', data = df_ccbs_sexo, ax=ax)\n",
    "\n",
    "plt.show()"
   ]
  },
  {
   "cell_type": "code",
   "execution_count": 40,
   "id": "b42dbb3d",
   "metadata": {},
   "outputs": [
    {
     "data": {
      "text/html": [
       "<div>\n",
       "<style scoped>\n",
       "    .dataframe tbody tr th:only-of-type {\n",
       "        vertical-align: middle;\n",
       "    }\n",
       "\n",
       "    .dataframe tbody tr th {\n",
       "        vertical-align: top;\n",
       "    }\n",
       "\n",
       "    .dataframe thead th {\n",
       "        text-align: right;\n",
       "    }\n",
       "</style>\n",
       "<table border=\"1\" class=\"dataframe\">\n",
       "  <thead>\n",
       "    <tr style=\"text-align: right;\">\n",
       "      <th></th>\n",
       "      <th>sexo</th>\n",
       "      <th>titulacao</th>\n",
       "      <th>Total</th>\n",
       "      <th>Percentual</th>\n",
       "    </tr>\n",
       "  </thead>\n",
       "  <tbody>\n",
       "    <tr>\n",
       "      <th>1</th>\n",
       "      <td>F</td>\n",
       "      <td>DOUTORADO</td>\n",
       "      <td>184</td>\n",
       "      <td>48.29</td>\n",
       "    </tr>\n",
       "    <tr>\n",
       "      <th>2</th>\n",
       "      <td>M</td>\n",
       "      <td>DOUTORADO</td>\n",
       "      <td>123</td>\n",
       "      <td>32.28</td>\n",
       "    </tr>\n",
       "    <tr>\n",
       "      <th>3</th>\n",
       "      <td>F</td>\n",
       "      <td>MESTRADO</td>\n",
       "      <td>32</td>\n",
       "      <td>8.40</td>\n",
       "    </tr>\n",
       "    <tr>\n",
       "      <th>4</th>\n",
       "      <td>M</td>\n",
       "      <td>MESTRADO</td>\n",
       "      <td>28</td>\n",
       "      <td>7.35</td>\n",
       "    </tr>\n",
       "    <tr>\n",
       "      <th>5</th>\n",
       "      <td>M</td>\n",
       "      <td>ESPECIALIZAÇÃO</td>\n",
       "      <td>7</td>\n",
       "      <td>1.84</td>\n",
       "    </tr>\n",
       "    <tr>\n",
       "      <th>6</th>\n",
       "      <td>F</td>\n",
       "      <td>ESPECIALIZAÇÃO</td>\n",
       "      <td>6</td>\n",
       "      <td>1.57</td>\n",
       "    </tr>\n",
       "    <tr>\n",
       "      <th>7</th>\n",
       "      <td>F</td>\n",
       "      <td>GRADUAÇÃO</td>\n",
       "      <td>1</td>\n",
       "      <td>0.26</td>\n",
       "    </tr>\n",
       "  </tbody>\n",
       "</table>\n",
       "</div>"
      ],
      "text/plain": [
       "  sexo       titulacao  Total  Percentual\n",
       "1    F       DOUTORADO    184       48.29\n",
       "2    M       DOUTORADO    123       32.28\n",
       "3    F        MESTRADO     32        8.40\n",
       "4    M        MESTRADO     28        7.35\n",
       "5    M  ESPECIALIZAÇÃO      7        1.84\n",
       "6    F  ESPECIALIZAÇÃO      6        1.57\n",
       "7    F       GRADUAÇÃO      1        0.26"
      ]
     },
     "execution_count": 40,
     "metadata": {},
     "output_type": "execute_result"
    }
   ],
   "source": [
    "df_ccbs_sexo_titulacao = df_ccbs.groupby(['sexo', 'titulacao'])\\\n",
    "                                .count()\\\n",
    "                                .drop(columns=['unidade'])\\\n",
    "                                .rename(columns={'nome':'Total'})\\\n",
    "                                .reset_index()\\\n",
    "                                .sort_values(by='Total', ascending=False)\n",
    "\n",
    "df_ccbs_sexo_titulacao.index = pd.RangeIndex(start=1, stop=8, step=1)\n",
    "\n",
    "df_ccbs_sexo_titulacao['Percentual'] = ((df_ccbs_sexo_titulacao['Total'] / df_ccbs_sexo_titulacao['Total']\\\n",
    "                                         .sum()) * 100).round(2)\n",
    "\n",
    "df_ccbs_sexo_titulacao"
   ]
  },
  {
   "cell_type": "code",
   "execution_count": 41,
   "id": "0e27f579",
   "metadata": {},
   "outputs": [
    {
     "data": {
      "image/png": "[encoded data removed]",
      "text/plain": [
       "<Figure size 800x600 with 1 Axes>"
      ]
     },
     "metadata": {},
     "output_type": "display_data"
    }
   ],
   "source": [
    "fig, ax = plt.subplots(figsize=(8, 6))\n",
    "\n",
    "ax.set_title( \"Titulações na UFMA por sexo no CCBS\" , size = 12 )\n",
    "\n",
    "plot = sns.barplot(x = 'titulacao', y = 'Total', data = df_ccbs_sexo_titulacao, hue='sexo', ax=ax)\n",
    "\n",
    "plt.show()"
   ]
  },
  {
   "cell_type": "markdown",
   "id": "9bd398ab",
   "metadata": {},
   "source": [
    "#### CCH"
   ]
  },
  {
   "cell_type": "code",
   "execution_count": 42,
   "id": "47cf5bfe",
   "metadata": {},
   "outputs": [],
   "source": [
    "df_cch1 = df_edit.filter(like='/CCH', axis=0)"
   ]
  },
  {
   "cell_type": "code",
   "execution_count": 43,
   "id": "41b0c725",
   "metadata": {},
   "outputs": [
    {
     "data": {
      "text/html": [
       "<div>\n",
       "<style scoped>\n",
       "    .dataframe tbody tr th:only-of-type {\n",
       "        vertical-align: middle;\n",
       "    }\n",
       "\n",
       "    .dataframe tbody tr th {\n",
       "        vertical-align: top;\n",
       "    }\n",
       "\n",
       "    .dataframe thead th {\n",
       "        text-align: right;\n",
       "    }\n",
       "</style>\n",
       "<table border=\"1\" class=\"dataframe\">\n",
       "  <thead>\n",
       "    <tr style=\"text-align: right;\">\n",
       "      <th></th>\n",
       "      <th>unidade</th>\n",
       "      <th>nome</th>\n",
       "      <th>sexo</th>\n",
       "      <th>titulacao</th>\n",
       "    </tr>\n",
       "  </thead>\n",
       "  <tbody>\n",
       "    <tr>\n",
       "      <th>0</th>\n",
       "      <td>DEPARTAMENTO DE ARTES VISUAIS/CCH</td>\n",
       "      <td>FREDERICO FERNANDO SOUZA SILVA</td>\n",
       "      <td>M</td>\n",
       "      <td>DOUTORADO</td>\n",
       "    </tr>\n",
       "    <tr>\n",
       "      <th>1</th>\n",
       "      <td>DEPARTAMENTO DE ARTES CENICAS/CCH</td>\n",
       "      <td>ABIMAELSON SANTOS PEREIRA</td>\n",
       "      <td>M</td>\n",
       "      <td>MESTRADO</td>\n",
       "    </tr>\n",
       "    <tr>\n",
       "      <th>2</th>\n",
       "      <td>DEPARTAMENTO DE LETRAS/CCH</td>\n",
       "      <td>EDSON REIS MEIRA</td>\n",
       "      <td>M</td>\n",
       "      <td>DOUTORADO</td>\n",
       "    </tr>\n",
       "    <tr>\n",
       "      <th>3</th>\n",
       "      <td>DEPARTAMENTO DE FILOSOFIA/CCH</td>\n",
       "      <td>EDERSON SAFRA MELO</td>\n",
       "      <td>M</td>\n",
       "      <td>DOUTORADO</td>\n",
       "    </tr>\n",
       "    <tr>\n",
       "      <th>4</th>\n",
       "      <td>DEPARTAMENTO DE FILOSOFIA/CCH</td>\n",
       "      <td>DELVAIR CUSTODIO MOREIRA</td>\n",
       "      <td>M</td>\n",
       "      <td>DOUTORADO</td>\n",
       "    </tr>\n",
       "  </tbody>\n",
       "</table>\n",
       "</div>"
      ],
      "text/plain": [
       "                             unidade                            nome sexo  \\\n",
       "0  DEPARTAMENTO DE ARTES VISUAIS/CCH  FREDERICO FERNANDO SOUZA SILVA    M   \n",
       "1  DEPARTAMENTO DE ARTES CENICAS/CCH       ABIMAELSON SANTOS PEREIRA    M   \n",
       "2         DEPARTAMENTO DE LETRAS/CCH                EDSON REIS MEIRA    M   \n",
       "3      DEPARTAMENTO DE FILOSOFIA/CCH              EDERSON SAFRA MELO    M   \n",
       "4      DEPARTAMENTO DE FILOSOFIA/CCH        DELVAIR CUSTODIO MOREIRA    M   \n",
       "\n",
       "   titulacao  \n",
       "0  DOUTORADO  \n",
       "1   MESTRADO  \n",
       "2  DOUTORADO  \n",
       "3  DOUTORADO  \n",
       "4  DOUTORADO  "
      ]
     },
     "execution_count": 43,
     "metadata": {},
     "output_type": "execute_result"
    }
   ],
   "source": [
    "df_cch = df_cch1.drop(['COORDENACAO DO CURSO DE MEDICINA PINHEIRO/CCHNST', \n",
    "                       'COORDENACAO DO CURSO DE EDUCACAO FISICA PINHEIRO/CCHNST', \n",
    "                       'COORDENACAO DO CURSO DE LICENCIATURAS EM CIENCIAS HUMANAS PINHEIRO/CCHNST', \n",
    "                       'COORDENACAO DO CURSO DE ENFERMAGEM PINHEIRO/CCHNST', \n",
    "                       'COORDENACAO DO CURSO DE ENGENHARIA DE PESCA PINHEIRO/CCHNST', \n",
    "                       'COORDENACAO DO CURSO DE LICENCIATURAS EM CIENCIAS NATURAIS PINHEIRO/CCHNST']).reset_index()\n",
    "\n",
    "df_cch.head()"
   ]
  },
  {
   "cell_type": "code",
   "execution_count": 44,
   "id": "a5ce9258",
   "metadata": {},
   "outputs": [
    {
     "data": {
      "text/plain": [
       "(229, 4)"
      ]
     },
     "execution_count": 44,
     "metadata": {},
     "output_type": "execute_result"
    }
   ],
   "source": [
    "df_cch.shape"
   ]
  },
  {
   "cell_type": "code",
   "execution_count": 45,
   "id": "4223072f",
   "metadata": {},
   "outputs": [
    {
     "data": {
      "text/html": [
       "<div>\n",
       "<style scoped>\n",
       "    .dataframe tbody tr th:only-of-type {\n",
       "        vertical-align: middle;\n",
       "    }\n",
       "\n",
       "    .dataframe tbody tr th {\n",
       "        vertical-align: top;\n",
       "    }\n",
       "\n",
       "    .dataframe thead th {\n",
       "        text-align: right;\n",
       "    }\n",
       "</style>\n",
       "<table border=\"1\" class=\"dataframe\">\n",
       "  <thead>\n",
       "    <tr style=\"text-align: right;\">\n",
       "      <th></th>\n",
       "      <th>titulacao</th>\n",
       "      <th>Total</th>\n",
       "      <th>Percentual</th>\n",
       "    </tr>\n",
       "  </thead>\n",
       "  <tbody>\n",
       "    <tr>\n",
       "      <th>1</th>\n",
       "      <td>DOUTORADO</td>\n",
       "      <td>172</td>\n",
       "      <td>75.11</td>\n",
       "    </tr>\n",
       "    <tr>\n",
       "      <th>2</th>\n",
       "      <td>MESTRADO</td>\n",
       "      <td>46</td>\n",
       "      <td>20.09</td>\n",
       "    </tr>\n",
       "    <tr>\n",
       "      <th>3</th>\n",
       "      <td>GRADUAÇÃO</td>\n",
       "      <td>6</td>\n",
       "      <td>2.62</td>\n",
       "    </tr>\n",
       "    <tr>\n",
       "      <th>4</th>\n",
       "      <td>ESPECIALIZAÇÃO</td>\n",
       "      <td>4</td>\n",
       "      <td>1.75</td>\n",
       "    </tr>\n",
       "    <tr>\n",
       "      <th>5</th>\n",
       "      <td>PÓS-DOUTORADO</td>\n",
       "      <td>1</td>\n",
       "      <td>0.44</td>\n",
       "    </tr>\n",
       "  </tbody>\n",
       "</table>\n",
       "</div>"
      ],
      "text/plain": [
       "        titulacao  Total  Percentual\n",
       "1       DOUTORADO    172       75.11\n",
       "2        MESTRADO     46       20.09\n",
       "3       GRADUAÇÃO      6        2.62\n",
       "4  ESPECIALIZAÇÃO      4        1.75\n",
       "5   PÓS-DOUTORADO      1        0.44"
      ]
     },
     "execution_count": 45,
     "metadata": {},
     "output_type": "execute_result"
    }
   ],
   "source": [
    "df_cch_titulacao = df_cch.groupby('titulacao').count()\\\n",
    "                                              .rename(columns={'nome':'Total'})\\\n",
    "                                              .drop(columns=['unidade', 'sexo'])\\\n",
    "                                              .reset_index()\\\n",
    "                                              .sort_values(by='Total', ascending=False)\n",
    "\n",
    "df_cch_titulacao.index = pd.RangeIndex(start=1, stop=6, step=1)\n",
    "\n",
    "df_cch_titulacao['Percentual'] = ((df_cch_titulacao['Total'] / df_cch_titulacao['Total'].sum()) * 100).round(2)\n",
    "\n",
    "df_cch_titulacao"
   ]
  },
  {
   "cell_type": "code",
   "execution_count": 46,
   "id": "864822b2",
   "metadata": {},
   "outputs": [
    {
     "data": {
      "image/png": "[encoded data removed]",
      "text/plain": [
       "<Figure size 800x600 with 1 Axes>"
      ]
     },
     "metadata": {},
     "output_type": "display_data"
    }
   ],
   "source": [
    "fig, ax = plt.subplots(figsize=(8, 6))\n",
    "\n",
    "ax.set_title( \"Número Total de Titulações no CCH\" , size = 12 )\n",
    "\n",
    "plot = sns.barplot(x = 'titulacao', y = 'Total', data = df_cch_titulacao, ax=ax)\n",
    "\n",
    "plt.show()"
   ]
  },
  {
   "cell_type": "code",
   "execution_count": 47,
   "id": "788366d9",
   "metadata": {},
   "outputs": [
    {
     "data": {
      "text/html": [
       "<div>\n",
       "<style scoped>\n",
       "    .dataframe tbody tr th:only-of-type {\n",
       "        vertical-align: middle;\n",
       "    }\n",
       "\n",
       "    .dataframe tbody tr th {\n",
       "        vertical-align: top;\n",
       "    }\n",
       "\n",
       "    .dataframe thead th {\n",
       "        text-align: right;\n",
       "    }\n",
       "</style>\n",
       "<table border=\"1\" class=\"dataframe\">\n",
       "  <thead>\n",
       "    <tr style=\"text-align: right;\">\n",
       "      <th></th>\n",
       "      <th>sexo</th>\n",
       "      <th>Total</th>\n",
       "      <th>Percentual</th>\n",
       "    </tr>\n",
       "  </thead>\n",
       "  <tbody>\n",
       "    <tr>\n",
       "      <th>1</th>\n",
       "      <td>F</td>\n",
       "      <td>121</td>\n",
       "      <td>52.84</td>\n",
       "    </tr>\n",
       "    <tr>\n",
       "      <th>2</th>\n",
       "      <td>M</td>\n",
       "      <td>108</td>\n",
       "      <td>47.16</td>\n",
       "    </tr>\n",
       "  </tbody>\n",
       "</table>\n",
       "</div>"
      ],
      "text/plain": [
       "  sexo  Total  Percentual\n",
       "1    F    121       52.84\n",
       "2    M    108       47.16"
      ]
     },
     "execution_count": 47,
     "metadata": {},
     "output_type": "execute_result"
    }
   ],
   "source": [
    "df_cch_sexo = df_cch.groupby('sexo')\\\n",
    "                    .count()\\\n",
    "                    .rename(columns={'nome':'Total'})\\\n",
    "                    .drop(columns=['titulacao', 'unidade'])\\\n",
    "                    .reset_index()\\\n",
    "                    .sort_values(by='Total', ascending=False)\n",
    "\n",
    "df_cch_sexo.index = pd.RangeIndex(start=1, stop=3, step=1)\n",
    "\n",
    "df_cch_sexo['Percentual'] = ((df_cch_sexo['Total'] / df_cch_sexo['Total'].sum()) * 100).round(2)\n",
    "\n",
    "df_cch_sexo"
   ]
  },
  {
   "cell_type": "code",
   "execution_count": 48,
   "id": "f76c77f1",
   "metadata": {},
   "outputs": [
    {
     "data": {
      "image/png": "[encoded data removed]",
      "text/plain": [
       "<Figure size 640x480 with 1 Axes>"
      ]
     },
     "metadata": {},
     "output_type": "display_data"
    }
   ],
   "source": [
    "fig, ax = plt.subplots()\n",
    "\n",
    "ax.set_title( \"Masculino x Feminino no CCH\" , size = 12 )\n",
    "\n",
    "plot = sns.barplot(x = 'sexo', y = 'Total', data = df_cch_sexo, ax=ax)\n",
    "\n",
    "plt.show()"
   ]
  },
  {
   "cell_type": "code",
   "execution_count": 49,
   "id": "79c94101",
   "metadata": {},
   "outputs": [
    {
     "data": {
      "text/html": [
       "<div>\n",
       "<style scoped>\n",
       "    .dataframe tbody tr th:only-of-type {\n",
       "        vertical-align: middle;\n",
       "    }\n",
       "\n",
       "    .dataframe tbody tr th {\n",
       "        vertical-align: top;\n",
       "    }\n",
       "\n",
       "    .dataframe thead th {\n",
       "        text-align: right;\n",
       "    }\n",
       "</style>\n",
       "<table border=\"1\" class=\"dataframe\">\n",
       "  <thead>\n",
       "    <tr style=\"text-align: right;\">\n",
       "      <th></th>\n",
       "      <th>sexo</th>\n",
       "      <th>titulacao</th>\n",
       "      <th>Total</th>\n",
       "      <th>Percentual</th>\n",
       "    </tr>\n",
       "  </thead>\n",
       "  <tbody>\n",
       "    <tr>\n",
       "      <th>1</th>\n",
       "      <td>F</td>\n",
       "      <td>DOUTORADO</td>\n",
       "      <td>89</td>\n",
       "      <td>38.86</td>\n",
       "    </tr>\n",
       "    <tr>\n",
       "      <th>2</th>\n",
       "      <td>M</td>\n",
       "      <td>DOUTORADO</td>\n",
       "      <td>83</td>\n",
       "      <td>36.24</td>\n",
       "    </tr>\n",
       "    <tr>\n",
       "      <th>3</th>\n",
       "      <td>F</td>\n",
       "      <td>MESTRADO</td>\n",
       "      <td>28</td>\n",
       "      <td>12.23</td>\n",
       "    </tr>\n",
       "    <tr>\n",
       "      <th>4</th>\n",
       "      <td>M</td>\n",
       "      <td>MESTRADO</td>\n",
       "      <td>18</td>\n",
       "      <td>7.86</td>\n",
       "    </tr>\n",
       "    <tr>\n",
       "      <th>5</th>\n",
       "      <td>M</td>\n",
       "      <td>GRADUAÇÃO</td>\n",
       "      <td>4</td>\n",
       "      <td>1.75</td>\n",
       "    </tr>\n",
       "    <tr>\n",
       "      <th>6</th>\n",
       "      <td>M</td>\n",
       "      <td>ESPECIALIZAÇÃO</td>\n",
       "      <td>3</td>\n",
       "      <td>1.31</td>\n",
       "    </tr>\n",
       "    <tr>\n",
       "      <th>7</th>\n",
       "      <td>F</td>\n",
       "      <td>GRADUAÇÃO</td>\n",
       "      <td>2</td>\n",
       "      <td>0.87</td>\n",
       "    </tr>\n",
       "    <tr>\n",
       "      <th>8</th>\n",
       "      <td>F</td>\n",
       "      <td>ESPECIALIZAÇÃO</td>\n",
       "      <td>1</td>\n",
       "      <td>0.44</td>\n",
       "    </tr>\n",
       "    <tr>\n",
       "      <th>9</th>\n",
       "      <td>F</td>\n",
       "      <td>PÓS-DOUTORADO</td>\n",
       "      <td>1</td>\n",
       "      <td>0.44</td>\n",
       "    </tr>\n",
       "  </tbody>\n",
       "</table>\n",
       "</div>"
      ],
      "text/plain": [
       "  sexo       titulacao  Total  Percentual\n",
       "1    F       DOUTORADO     89       38.86\n",
       "2    M       DOUTORADO     83       36.24\n",
       "3    F        MESTRADO     28       12.23\n",
       "4    M        MESTRADO     18        7.86\n",
       "5    M       GRADUAÇÃO      4        1.75\n",
       "6    M  ESPECIALIZAÇÃO      3        1.31\n",
       "7    F       GRADUAÇÃO      2        0.87\n",
       "8    F  ESPECIALIZAÇÃO      1        0.44\n",
       "9    F   PÓS-DOUTORADO      1        0.44"
      ]
     },
     "execution_count": 49,
     "metadata": {},
     "output_type": "execute_result"
    }
   ],
   "source": [
    "df_cch_sexo_titulacao = df_cch.groupby(['sexo', 'titulacao'])\\\n",
    "                              .count()\\\n",
    "                              .drop(columns=['unidade'])\\\n",
    "                              .rename(columns={'nome':'Total'})\\\n",
    "                              .reset_index()\\\n",
    "                              .sort_values(by='Total', ascending=False)\n",
    "\n",
    "df_cch_sexo_titulacao.index = pd.RangeIndex(start=1, stop=10, step=1)\n",
    "\n",
    "df_cch_sexo_titulacao['Percentual'] = ((df_cch_sexo_titulacao['Total'] / df_cch_sexo_titulacao['Total']\\\n",
    "                                        .sum()) * 100).round(2)\n",
    "\n",
    "df_cch_sexo_titulacao"
   ]
  },
  {
   "cell_type": "code",
   "execution_count": 50,
   "id": "45337784",
   "metadata": {},
   "outputs": [
    {
     "data": {
      "image/png": "[encoded data removed]",
      "text/plain": [
       "<Figure size 800x600 with 1 Axes>"
      ]
     },
     "metadata": {},
     "output_type": "display_data"
    }
   ],
   "source": [
    "fig, ax = plt.subplots(figsize=(8, 6))\n",
    "\n",
    "ax.set_title( \"Titulações na UFMA por sexo no CCH\" , size = 12 )\n",
    "\n",
    "plot = sns.barplot(x = 'titulacao', y = 'Total', data = df_cch_sexo_titulacao, hue='sexo', ax=ax)\n",
    "\n",
    "plt.show()"
   ]
  }
 ],
 "metadata": {
  "kernelspec": {
   "display_name": "Python 3",
   "language": "python",
   "name": "python3"
  },
  "language_info": {
   "codemirror_mode": {
    "name": "ipython",
    "version": 3
   },
   "file_extension": ".py",
   "mimetype": "text/x-python",
   "name": "python",
   "nbconvert_exporter": "python",
   "pygments_lexer": "ipython3",
   "version": "3.10.6"
  }
 },
 "nbformat": 4,
 "nbformat_minor": 5
}
